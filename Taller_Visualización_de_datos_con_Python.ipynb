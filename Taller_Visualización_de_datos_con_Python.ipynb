{
  "nbformat": 4,
  "nbformat_minor": 0,
  "metadata": {
    "colab": {
      "provenance": [],
      "authorship_tag": "ABX9TyNktYJ3xcxp+wgk7pyiOwRg",
      "include_colab_link": true
    },
    "kernelspec": {
      "name": "python3",
      "display_name": "Python 3"
    },
    "language_info": {
      "name": "python"
    }
  },
  "cells": [
    {
      "cell_type": "markdown",
      "metadata": {
        "id": "view-in-github",
        "colab_type": "text"
      },
      "source": [
        "<a href=\"https://colab.research.google.com/github/itsSolG/InternationalConf-MathsAppliedtoIT-DataSciences/blob/main/Taller_Visualizaci%C3%B3n_de_datos_con_Python.ipynb\" target=\"_parent\"><img src=\"https://colab.research.google.com/assets/colab-badge.svg\" alt=\"Open In Colab\"/></a>"
      ]
    },
    {
      "cell_type": "code",
      "execution_count": null,
      "metadata": {
        "colab": {
          "base_uri": "https://localhost:8080/"
        },
        "id": "_PnE7g0100zs",
        "outputId": "30779932-0519-4f8a-bcfd-87f5a6fbf550"
      },
      "outputs": [
        {
          "output_type": "stream",
          "name": "stdout",
          "text": [
            "Hola mundo!\n"
          ]
        }
      ],
      "source": [
        "print('Hola mundo!')\n"
      ]
    },
    {
      "cell_type": "markdown",
      "source": [
        "# A continuación se presentan ejemplos de código usando estructuras básicas de **Python**©"
      ],
      "metadata": {
        "id": "WzWa6vnI38jf"
      }
    },
    {
      "cell_type": "code",
      "source": [
        "lista_nums = [-1,0,2,-1,0,-1]\n",
        "lista = [2.71, 'DACyTI', 2023, True]\n",
        "lista_vacia = []\n",
        "lista_simple = [3.1416]\n",
        "\n",
        "print(type(lista_simple))"
      ],
      "metadata": {
        "colab": {
          "base_uri": "https://localhost:8080/"
        },
        "id": "8eR8fRWt4Xl5",
        "outputId": "8734e987-dfb1-4a71-d618-ffda9ac13d07"
      },
      "execution_count": null,
      "outputs": [
        {
          "output_type": "stream",
          "name": "stdout",
          "text": [
            "<class 'list'>\n"
          ]
        }
      ]
    },
    {
      "cell_type": "markdown",
      "source": [
        "## **Ejemplos usando tuplas**"
      ],
      "metadata": {
        "id": "hK-Q7O0J6EMO"
      }
    },
    {
      "cell_type": "code",
      "source": [
        "tupla_nums = (-1,0,2,-1,0,-1)\n",
        "tupla = (2.71, 'DACyTI', 2023, True)\n",
        "tupla_vacia = ()\n",
        "print(type(tupla_vacia))\n",
        "\n",
        "tupla_simple = (3.1416,)\n",
        "print(type(tupla_simple))"
      ],
      "metadata": {
        "colab": {
          "base_uri": "https://localhost:8080/"
        },
        "id": "3D4iuBny6HpV",
        "outputId": "c0126a06-aa24-4e55-8091-a22c7ceebb1e"
      },
      "execution_count": null,
      "outputs": [
        {
          "output_type": "stream",
          "name": "stdout",
          "text": [
            "<class 'tuple'>\n",
            "<class 'float'>\n"
          ]
        }
      ]
    },
    {
      "cell_type": "markdown",
      "source": [
        "## **Conjuntos**"
      ],
      "metadata": {
        "id": "hagdTwJ27mhf"
      }
    },
    {
      "cell_type": "code",
      "source": [
        "conjunto_nums = {-1,0,2,-1,0,-1}\n",
        "print(conjunto_nums)\n",
        "print(type(conjunto_nums))"
      ],
      "metadata": {
        "colab": {
          "base_uri": "https://localhost:8080/"
        },
        "id": "4hS3Zsy670OE",
        "outputId": "c574944d-ec9f-4ff7-ee2c-594d8170ea5c"
      },
      "execution_count": null,
      "outputs": [
        {
          "output_type": "stream",
          "name": "stdout",
          "text": [
            "{0, 2, -1}\n",
            "<class 'set'>\n"
          ]
        }
      ]
    },
    {
      "cell_type": "markdown",
      "source": [
        "## **Diccionario**"
      ],
      "metadata": {
        "id": "L70fQSil9GxN"
      }
    },
    {
      "cell_type": "code",
      "source": [
        "diccionario = {1: 'Primero',\n",
        "               2: 'Segundo',\n",
        "               3: 'Tercero'}\n",
        "\n",
        "\n",
        "calificaciones = {'Juan': 9,\n",
        "                  'Maria': 10,\n",
        "                  'Judas': 5}\n",
        "\n",
        "profesores = {'Oscar': ['03420', 'Inteligencia artificial', 42],\n",
        "              'Simón': ['03127', 'Matemáticas', 43]\n",
        "              }\n",
        "\n",
        "\n",
        "print(profesores)\n",
        "print(type(profesores))"
      ],
      "metadata": {
        "colab": {
          "base_uri": "https://localhost:8080/"
        },
        "id": "zrqilfxk9R20",
        "outputId": "1e9019fd-9365-4fd0-f793-3ad3c0fc3ceb"
      },
      "execution_count": null,
      "outputs": [
        {
          "output_type": "stream",
          "name": "stdout",
          "text": [
            "{'Oscar': ['03420', 'Inteligencia artificial', 42], 'Simón': ['03127', 'Matemáticas', 43]}\n",
            "<class 'dict'>\n"
          ]
        }
      ]
    },
    {
      "cell_type": "markdown",
      "source": [
        "## **Estadística**\n",
        "\n",
        "\n",
        "*   Conjunto de reglas y conceptos para analizar e interpretar datos.\n",
        "*   Heramientas y conceptos que nos ayudan a definir el comportamiento de variables.\n",
        "\n",
        "\n"
      ],
      "metadata": {
        "id": "yD3a-lft_PEt"
      }
    },
    {
      "cell_type": "markdown",
      "source": [
        "### **Tipos de gráficos**"
      ],
      "metadata": {
        "id": "MFMJYLXGAI6F"
      }
    },
    {
      "cell_type": "code",
      "source": [
        "import matplotlib.pyplot as plt\n",
        "\n",
        "#Eje x\n",
        "x = [0,6]\n",
        "\n",
        "#Eje y\n",
        "y = [0,8]\n",
        "\n",
        "#Graficar\n",
        "\n",
        "plt.plot(x,y)\n",
        "\n",
        "plt.show()"
      ],
      "metadata": {
        "colab": {
          "base_uri": "https://localhost:8080/",
          "height": 430
        },
        "id": "MRWFuhJT__aA",
        "outputId": "7c6d4af0-32e5-40f0-b22d-5a220c47fdd8"
      },
      "execution_count": null,
      "outputs": [
        {
          "output_type": "display_data",
          "data": {
            "text/plain": [
              "<Figure size 640x480 with 1 Axes>"
            ],
            "image/png": "[encoded data removed]"
          },
          "metadata": {}
        }
      ]
    },
    {
      "cell_type": "markdown",
      "source": [
        "## **Caso práctico**"
      ],
      "metadata": {
        "id": "fBPNbKFmOPlR"
      }
    },
    {
      "cell_type": "code",
      "source": [
        "# Estatura de las personas en CENTÍMETROS\n",
        "estaturas = [182, 166, 150, 154, 165, 165, 179, 174, 174, 177, 169, 167, 175, 154, 159, 171, 173, 166, 175, 166, 173, 165, 168, 181]\n",
        "\n",
        "# Edades de las personas en AÑOS\n",
        "edades = [18, 17, 18, 18, 18, 18, 18, 18, 17, 21, 18, 18, 18, 19, 18, 18, 18, 22, 19, 19, 19, 21, 43, 42]\n",
        "print('Estaturas totales:',len(estaturas))\n",
        "print('Edades totales:', len(edades))"
      ],
      "metadata": {
        "colab": {
          "base_uri": "https://localhost:8080/"
        },
        "id": "txjE7tVnOQ6p",
        "outputId": "b2da77ae-de8e-4855-f6fe-4229ab2f56d5"
      },
      "execution_count": null,
      "outputs": [
        {
          "output_type": "stream",
          "name": "stdout",
          "text": [
            "Estaturas totales: 24\n",
            "Edades totales: 24\n"
          ]
        }
      ]
    },
    {
      "cell_type": "markdown",
      "source": [
        "## **Histograma de las tallas**\n",
        "\n",
        "Distribución de las estaturas del grupo"
      ],
      "metadata": {
        "id": "cDjn1MwcU44a"
      }
    },
    {
      "cell_type": "code",
      "source": [
        "import matplotlib.pyplot as plt\n",
        "\n",
        "plt.hist(estaturas)\n",
        "#plt.hist(estaturas, bi)"
      ],
      "metadata": {
        "colab": {
          "base_uri": "https://localhost:8080/",
          "height": 499
        },
        "id": "QHqsBGflVJP0",
        "outputId": "f639943f-e384-4444-c659-2354caa0513b"
      },
      "execution_count": null,
      "outputs": [
        {
          "output_type": "execute_result",
          "data": {
            "text/plain": [
              "(array([1., 2., 1., 0., 3., 6., 1., 6., 1., 3.]),\n",
              " array([150. , 153.2, 156.4, 159.6, 162.8, 166. , 169.2, 172.4, 175.6,\n",
              "        178.8, 182. ]),\n",
              " <BarContainer object of 10 artists>)"
            ]
          },
          "metadata": {},
          "execution_count": 51
        },
        {
          "output_type": "display_data",
          "data": {
            "text/plain": [
              "<Figure size 640x480 with 1 Axes>"
            ],
            "image/png": "[encoded data removed]"
          },
          "metadata": {}
        }
      ]
    },
    {
      "cell_type": "code",
      "source": [
        "plt.hist(edades, bins = 3)"
      ],
      "metadata": {
        "colab": {
          "base_uri": "https://localhost:8080/",
          "height": 482
        },
        "id": "BqIB58fiWWOL",
        "outputId": "36842939-08f9-43d8-9e51-0093ff7df70d"
      },
      "execution_count": null,
      "outputs": [
        {
          "output_type": "execute_result",
          "data": {
            "text/plain": [
              "(array([22.,  0.,  2.]),\n",
              " array([17.        , 25.66666667, 34.33333333, 43.        ]),\n",
              " <BarContainer object of 3 artists>)"
            ]
          },
          "metadata": {},
          "execution_count": 49
        },
        {
          "output_type": "display_data",
          "data": {
            "text/plain": [
              "<Figure size 640x480 with 1 Axes>"
            ],
            "image/png": "[encoded data removed]"
          },
          "metadata": {}
        }
      ]
    }
  ]
}